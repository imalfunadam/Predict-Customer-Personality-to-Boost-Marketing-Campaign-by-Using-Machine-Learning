{
 "cells": [
  {
   "cell_type": "markdown",
   "metadata": {},
   "source": [
    "## Predict Customer Personality to Boost Marketing Campaign\n",
    "\n",
    "**Table of Content:**\n",
    "\n",
    "- Introduction\n",
    "- Load Dataset\n",
    "- Exploratory Data Analysis\n",
    "- Data Preprocessing\n",
    "- Modeling\n",
    "- Save Model\n",
    "\n",
    "# Introduction\n",
    "\n",
    "**Background**\n",
    "\n",
    "Dengan memahami apa yang pelanggan sukai, butuhkan, dan bagaimana mereka membeli produk kita, kita bisa memberikan layanan yang lebih baik sesuai dengan kebutuhan mereka. Dengan memahami pelanggan, kita bisa memberikan pengalaman yang lebih menyenangkan dan memuaskan bagi mereka. Hal ini akan membuat pelanggan lebih puas dan akhirnya akan meningkatkan penjualan kita. Untuk memahami pelanggan, kita bisa menggunakan metode pengelompokkan. Dengan pengelompokkan, kita bisa membagi pelanggan menjadi kelompok-kelompok berdasarkan karakteristiknya. Hal ini akan membantu kita menyusun strategi penjualan yang lebih efektif dan sesuai dengan kebutuhan setiap kelompok pelanggan. Oleh karena itu, memahami pelanggan adalah hal yang penting untuk meningkatkan penjualan dan mencapai kesuksesan jangka panjang bagi perusahaan.\n",
    "\n",
    "**Goal**\n",
    "\n",
    "Tujuan dari analisis profil dan perilaku pelanggan dengan pendekatan clustering adalah untuk meningkatkan pemahaman perusahaan tentang pelanggan. Dengan pemahaman yang lebih baik tentang pelanggan, perusahaan dapat menyediakan layanan yang lebih personal, meningkatkan performa penjualan, dan membangun hubungan yang kuat dengan pelanggan.\n",
    "\n",
    "**Objective**\n",
    "\n",
    "Berikut adalah objective dari analisis profil dan perilaku pelanggan dengan pendekatan clustering, dalam kalimat yang lebih mudah dipahami:\n",
    "\n",
    "- Membuat model machine learning yang dapat mengelompokkan pelanggan berdasarkan karakteristik dan perilaku mereka.\n",
    "Tujuan pertama adalah membuat model yang dapat membagi pelanggan menjadi kelompok-kelompok berdasarkan ciri-ciri dan cara mereka berperilaku.\n",
    "\n",
    "- Mengekstraksi insight yang lebih mendalam tentang profil dan perilaku pelanggan.\n",
    "Tujuan kedua adalah memahami lebih lanjut tentang pelanggan, seperti apa yang mereka sukai, butuhkan, dan bagaimana mereka berperilaku.\n",
    "\n",
    "- Menentukan strategi bisnis yang efektif dari hasil clustering.\n",
    "Tujuan ketiga adalah menggunakan pemahaman tentang pelanggan untuk membuat strategi bisnis yang lebih efektif.\n",
    "\n",
    "**Business Matric**\n",
    "\n",
    "Conversion Rate"
   ]
  },
  {
   "cell_type": "markdown",
   "metadata": {},
   "source": [
    "| Feature | Description |\n",
    "| --- | --- |\n",
    "| `ID` | ID unik dari setiap pelanggan |\n",
    "| `Year_Birth` | tahun kelahiran pelanggan |\n",
    "| `Dt_Customer` | tanggal pendaftaran pelanggan dengan perusahaan (gabung member) |\n",
    "| `Education` | tingkat pendidikan pelanggan |\n",
    "| `Marital_Status` | status pernikahan pelanggan |\n",
    "| `Kidhom` | jumlah anak kecil dalam rumah tangga pelanggan |\n",
    "| `Teenhom` | jumlah remaja dalam rumah tangga pelanggan |\n",
    "| `Income` | pendapatan rumah tangga pelanggan per tahun |\n",
    "| `MntFishProducts` | jumlah yang dibelanjakan untuk produk ikan dalam 2 tahun terakhir |\n",
    "| `MntMeatProducts` | jumlah yang dibelanjakan untuk produk daging dalam 2 tahun terakhir |\n",
    "| `MntFruits` | jumlah yang dibelanjakan untuk produk buah-buahan dalam 2 tahun terakhir |\n",
    "| `MntSweetProducts` | jumlah yang dibelanjakan untuk produk manis dalam 2 tahun terakhir |\n",
    "| `MntWines` | jumlah yang dibelanjakan untuk produk anggur dalam 2 tahun terakhir |\n",
    "| `MntGoldProds` | jumlah yang dibelanjakan untuk produk emas dalam 2 tahun terakhir |\n",
    "| `NumDealsPurchases` | jumlah pembelian yang dilakukan dengan diskon |\n",
    "| `NumCatalogPurchases` | jumlah pembelian yang dilakukan dengan menggunakan katalog (membeli barang yang akan dikirim melalui pos) |\n",
    "| `NumStorePurchases` | jumlah pembelian yang dilakukan secara langsung di toko |\n",
    "| `NumWebPurchases` | jumlah pembelian yang dilakukan melalui situs web perusahaan |\n",
    "| `NumWebVisitsMonth` | jumlah kunjungan ke situs web perusahaan dalam satu bulan terakhir |\n",
    "| `Recency` | jumlah hari sejak pembelian terakhir |\n",
    "| `Response` | 1 jika pelanggan menerima penawaran di kampanye terakhir, 0 jika tidak |\n"
   ]
  }
 ],
 "metadata": {
  "kernelspec": {
   "display_name": "base",
   "language": "python",
   "name": "python3"
  },
  "language_info": {
   "name": "python",
   "version": "3.11.3"
  }
 },
 "nbformat": 4,
 "nbformat_minor": 2
}
